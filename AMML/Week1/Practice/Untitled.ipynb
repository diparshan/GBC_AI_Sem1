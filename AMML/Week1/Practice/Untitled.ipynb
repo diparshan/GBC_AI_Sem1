{
 "cells": [
  {
   "cell_type": "code",
   "execution_count": 3,
   "id": "f32ca900-1137-458b-932a-580c67d6fae1",
   "metadata": {},
   "outputs": [],
   "source": [
    "# importing numpy (and matplotlib)\n",
    "import numpy as np\n",
    "import matplotlib.pyplot as plt\n",
    "%matplotlib inline"
   ]
  },
  {
   "cell_type": "code",
   "execution_count": 5,
   "id": "a63861c9-0882-4aec-b29f-91ba627880d7",
   "metadata": {},
   "outputs": [],
   "source": [
    "array_2D = np.array([[1,2,3,4],[2,4,6,4],[2,5,6,7]])"
   ]
  },
  {
   "cell_type": "code",
   "execution_count": 7,
   "id": "703c9789-a5d3-46b0-a2b7-0ce91acc171e",
   "metadata": {},
   "outputs": [
    {
     "name": "stdout",
     "output_type": "stream",
     "text": [
      "[[1 2 3 4]\n",
      " [2 4 6 4]\n",
      " [2 5 6 7]]\n"
     ]
    }
   ],
   "source": [
    "print(array_2D)"
   ]
  },
  {
   "cell_type": "code",
   "execution_count": 13,
   "id": "bfd068b8-d173-4385-8cf0-7613cb6c307e",
   "metadata": {},
   "outputs": [
    {
     "name": "stdout",
     "output_type": "stream",
     "text": [
      "first fow:  [2 3]\n"
     ]
    },
    {
     "ename": "IndexError",
     "evalue": "index 3 is out of bounds for axis 0 with size 3",
     "output_type": "error",
     "traceback": [
      "\u001b[0;31m---------------------------------------------------------------------------\u001b[0m",
      "\u001b[0;31mIndexError\u001b[0m                                Traceback (most recent call last)",
      "Cell \u001b[0;32mIn[13], line 2\u001b[0m\n\u001b[1;32m      1\u001b[0m \u001b[38;5;28mprint\u001b[39m(\u001b[38;5;124m\"\u001b[39m\u001b[38;5;124mfirst fow: \u001b[39m\u001b[38;5;124m\"\u001b[39m, array_2D[\u001b[38;5;241m0\u001b[39m,\u001b[38;5;241m1\u001b[39m:\u001b[38;5;241m3\u001b[39m])\n\u001b[0;32m----> 2\u001b[0m \u001b[38;5;28mprint\u001b[39m(\u001b[38;5;124m\"\u001b[39m\u001b[38;5;124mlast row: \u001b[39m\u001b[38;5;124m\"\u001b[39m, array_2D[\u001b[38;5;241m3\u001b[39m,:])\n",
      "\u001b[0;31mIndexError\u001b[0m: index 3 is out of bounds for axis 0 with size 3"
     ]
    }
   ],
   "source": [
    "print(\"first fow: \", array_2D[0,1:3])\n",
    "print(\"last row: \", array_2D[3,:])"
   ]
  },
  {
   "cell_type": "code",
   "execution_count": null,
   "id": "557a5468-6e39-46ee-bbaa-51cfedfaaa4e",
   "metadata": {},
   "outputs": [],
   "source": []
  }
 ],
 "metadata": {
  "kernelspec": {
   "display_name": "Python 3 (ipykernel)",
   "language": "python",
   "name": "python3"
  },
  "language_info": {
   "codemirror_mode": {
    "name": "ipython",
    "version": 3
   },
   "file_extension": ".py",
   "mimetype": "text/x-python",
   "name": "python",
   "nbconvert_exporter": "python",
   "pygments_lexer": "ipython3",
   "version": "3.12.4"
  }
 },
 "nbformat": 4,
 "nbformat_minor": 5
}
