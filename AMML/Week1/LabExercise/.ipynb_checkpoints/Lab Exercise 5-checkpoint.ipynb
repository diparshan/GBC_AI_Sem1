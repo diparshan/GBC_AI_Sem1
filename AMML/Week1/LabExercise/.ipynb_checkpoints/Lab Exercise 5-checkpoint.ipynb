{
 "cells": [
  {
   "cell_type": "markdown",
   "metadata": {},
   "source": [
    "<p style=\"font-family: Arial; font-size:3em;color:black;\"> Lab Exercise 6</p>"
   ]
  },
  {
   "cell_type": "markdown",
   "metadata": {},
   "source": [
    "The process below shows how to implement a simple linear regression analysis for a vehicle pricing scenario. Re-run it and take note of the R-sqaured value. Then. change the std value in np.random.normal to 1, 5 and 10. Observe the change in R-sqaured. How do you explain the change in R-sqaured value?"
   ]
  },
  {
   "cell_type": "code",
   "execution_count": null,
   "metadata": {},
   "outputs": [],
   "source": [
    "%matplotlib inline\n",
    "import numpy as np\n",
    "import matplotlib.pyplot as plt\n",
    "from sklearn.linear_model import LinearRegression\n",
    "\n",
    "vehicle_age = np.random.uniform(0,10,1000)\n",
    "vehicle_price = 70000 - (vehicle_age + np.random.normal(0, 1, 1000)) * 3000\n",
    "\n",
    "vehicle_age = vehicle_age.reshape(-1, 1)  #reshape for single feature, use (1,-1) for single sample\n",
    "vehicle_price = vehicle_price.reshape(-1, 1)\n",
    "\n",
    "plt.scatter(vehicle_age, vehicle_price)"
   ]
  },
  {
   "cell_type": "code",
   "execution_count": null,
   "metadata": {},
   "outputs": [],
   "source": [
    "reg = LinearRegression().fit(vehicle_age, vehicle_price)\n",
    "reg.score(vehicle_age, vehicle_price)"
   ]
  }
 ],
 "metadata": {
  "kernelspec": {
   "display_name": "Python 3 (ipykernel)",
   "language": "python",
   "name": "python3"
  },
  "language_info": {
   "codemirror_mode": {
    "name": "ipython",
    "version": 3
   },
   "file_extension": ".py",
   "mimetype": "text/x-python",
   "name": "python",
   "nbconvert_exporter": "python",
   "pygments_lexer": "ipython3",
   "version": "3.9.7"
  }
 },
 "nbformat": 4,
 "nbformat_minor": 1
}
