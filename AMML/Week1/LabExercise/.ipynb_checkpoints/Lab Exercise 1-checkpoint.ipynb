{
 "cells": [
  {
   "cell_type": "markdown",
   "metadata": {},
   "source": [
    "<p style=\"font-family: Arial; font-size:3em;color:black;\"> Lab Exercise 1 </p>"
   ]
  },
  {
   "cell_type": "code",
   "execution_count": 3,
   "metadata": {},
   "outputs": [],
   "source": [
    "# importing numpy\n",
    "import numpy as np"
   ]
  },
  {
   "cell_type": "code",
   "execution_count": 12,
   "metadata": {},
   "outputs": [
    {
     "name": "stdout",
     "output_type": "stream",
     "text": [
      "The elements of arr1 is:  [1 2 3 5 0]\n"
     ]
    },
    {
     "ename": "NameError",
     "evalue": "name 'nonzero' is not defined",
     "output_type": "error",
     "traceback": [
      "\u001b[0;31m---------------------------------------------------------------------------\u001b[0m",
      "\u001b[0;31mNameError\u001b[0m                                 Traceback (most recent call last)",
      "Cell \u001b[0;32mIn[12], line 5\u001b[0m\n\u001b[1;32m      2\u001b[0m arr1 \u001b[38;5;241m=\u001b[39m np\u001b[38;5;241m.\u001b[39marray([\u001b[38;5;241m1\u001b[39m,\u001b[38;5;241m2\u001b[39m,\u001b[38;5;241m3\u001b[39m,\u001b[38;5;241m5\u001b[39m,\u001b[38;5;241m0\u001b[39m])\n\u001b[1;32m      3\u001b[0m \u001b[38;5;28mprint\u001b[39m(\u001b[38;5;124m\"\u001b[39m\u001b[38;5;124mThe elements of arr1 is: \u001b[39m\u001b[38;5;124m\"\u001b[39m, arr1)\n\u001b[0;32m----> 5\u001b[0m \u001b[38;5;28mprint\u001b[39m(\u001b[38;5;124m\"\u001b[39m\u001b[38;5;124mIs arr1 non-zero? \u001b[39m\u001b[38;5;124m\"\u001b[39m, nonzero(arr1))\n",
      "\u001b[0;31mNameError\u001b[0m: name 'nonzero' is not defined"
     ]
    }
   ],
   "source": [
    "# Create a numpy array with the elements \"1, 2, 3, 5, 0\", print the array and test if all of its elements are non-zero.\n",
    "arr1 = np.array([1,2,3,5,0])\n",
    "print(\"The elements of arr1 is: \", arr1)\n",
    "\n",
    "print(\"Is arr1 non-zero? \", arr1.nonzero())"
   ]
  },
  {
   "cell_type": "code",
   "execution_count": 2,
   "metadata": {},
   "outputs": [],
   "source": [
    "# Create a numpy array with the elements \"3, -1, 3, 7, 2\", print the array and test if any of its elements is non-zero."
   ]
  },
  {
   "cell_type": "code",
   "execution_count": 3,
   "metadata": {},
   "outputs": [],
   "source": [
    "# Create a numpy array with the elements \"0, 0, 0, 0\", print the array and test if any of its elements is non-zero."
   ]
  },
  {
   "cell_type": "code",
   "execution_count": 4,
   "metadata": {},
   "outputs": [],
   "source": [
    "# Create a numpy array with the elements \"56, -2, 7\", print the array and the amount of memory required to store it."
   ]
  },
  {
   "cell_type": "code",
   "execution_count": 5,
   "metadata": {},
   "outputs": [],
   "source": [
    "# Create a numpy array with 10 zeros and print the array.\n",
    "\n",
    "# Create a numpy array with 6 ones and print the array.\n",
    "\n",
    "# Create a numpy array with 12 '3's and print the array. [3 3 3 3 3 3 3 3 3 3 3 3]\n"
   ]
  },
  {
   "cell_type": "code",
   "execution_count": 6,
   "metadata": {},
   "outputs": [],
   "source": [
    "# Create a numpy array of the integers from 8 to 20 and print the array. (make sure 20 itself is included) hint:  use \"arange\" method\n",
    "\n",
    "# Create a numpy array of the even integers from 8 to 20 and print the array. (make sure 20 itself is included)   hint:  use \"arange\" method\n"
   ]
  },
  {
   "cell_type": "code",
   "execution_count": 7,
   "metadata": {},
   "outputs": [],
   "source": [
    "# Create a numpy array consisting of 100 random elements from normal distribution with mean of 2 and std of 0.5. Print the mean, max, min and std of the array.\n",
    "\n",
    "# Create a numpy array consisting of 1000 random elements from normal distribution with mean of 2 and std of 0.5. Print the mean, max, min and std of the array.\n",
    "\n",
    "# Create a numpy array consisting of 1000000 random elements from normal distribution with mean of 2 and std of 0.5. Print the mean, max, min and std of the array.\n",
    "\n",
    "# (Bonus question) Looking at the three above examples with 1000, 5000, and 10000 random elements, do you have any observations about mean and std values?\n"
   ]
  }
 ],
 "metadata": {
  "kernelspec": {
   "display_name": "Python 3 (ipykernel)",
   "language": "python",
   "name": "python3"
  },
  "language_info": {
   "codemirror_mode": {
    "name": "ipython",
    "version": 3
   },
   "file_extension": ".py",
   "mimetype": "text/x-python",
   "name": "python",
   "nbconvert_exporter": "python",
   "pygments_lexer": "ipython3",
   "version": "3.12.4"
  }
 },
 "nbformat": 4,
 "nbformat_minor": 4
}
