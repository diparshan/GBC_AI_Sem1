{
 "cells": [
  {
   "cell_type": "markdown",
   "metadata": {},
   "source": [
    "<p style=\"font-family: Arial; font-size:3em;color:black;\"> Lab Exercise 3 </p>"
   ]
  },
  {
   "cell_type": "code",
   "execution_count": 1,
   "metadata": {},
   "outputs": [],
   "source": [
    "import numpy as np\n",
    "from numpy.linalg import inv\n",
    "from numpy.linalg import det\n",
    "\n"
   ]
  },
  {
   "cell_type": "code",
   "execution_count": 9,
   "metadata": {},
   "outputs": [
    {
     "name": "stdout",
     "output_type": "stream",
     "text": [
      "[[5 2 3]\n",
      " [6 1 3]\n",
      " [2 4 1]]\n"
     ]
    }
   ],
   "source": [
    "A = np.array([[5,2,3], [6,1,3],[2,4,1]])\n",
    "print(A)"
   ]
  },
  {
   "cell_type": "code",
   "execution_count": 13,
   "metadata": {},
   "outputs": [
    {
     "name": "stdout",
     "output_type": "stream",
     "text": [
      "[[5 2]\n",
      " [6 1]]\n"
     ]
    }
   ],
   "source": [
    "B = A[:2,:2]\n",
    "print(B)"
   ]
  },
  {
   "cell_type": "code",
   "execution_count": 21,
   "metadata": {},
   "outputs": [
    {
     "name": "stdout",
     "output_type": "stream",
     "text": [
      "[[1 3]\n",
      " [4 1]]\n"
     ]
    }
   ],
   "source": [
    "C = A[1:3, 1:3]\n",
    "print(C)"
   ]
  },
  {
   "cell_type": "code",
   "execution_count": 23,
   "metadata": {},
   "outputs": [
    {
     "name": "stdout",
     "output_type": "stream",
     "text": [
      "[[ 4 -7  4]\n",
      " [ 5  6 -1]\n",
      " [-4  2  5]]\n"
     ]
    }
   ],
   "source": [
    "D = np.array([[4,-7,4],[5,6,-1],[-4,2,5]])\n",
    "print(D)"
   ]
  },
  {
   "cell_type": "code",
   "execution_count": 25,
   "metadata": {},
   "outputs": [
    {
     "name": "stdout",
     "output_type": "stream",
     "text": [
      "[[ 18 -17  33]\n",
      " [ 17 -30  38]\n",
      " [ 24  12   9]]\n"
     ]
    }
   ],
   "source": [
    "AD = np.matmul(A,D)\n",
    "print(AD)"
   ]
  },
  {
   "cell_type": "code",
   "execution_count": 35,
   "metadata": {},
   "outputs": [
    {
     "name": "stdout",
     "output_type": "stream",
     "text": [
      "[[-14  17  -5]\n",
      " [ 59  12  32]\n",
      " [  2  14  -1]]\n",
      "DA and AD are not equal\n"
     ]
    }
   ],
   "source": [
    "DA = np.matmul(D,A)\n",
    "print(DA)\n",
    "print(\"DA and AD are not equal\")"
   ]
  },
  {
   "cell_type": "code",
   "execution_count": 31,
   "metadata": {},
   "outputs": [
    {
     "name": "stdout",
     "output_type": "stream",
     "text": [
      "Determinant of B:  -6.999999999999999\n"
     ]
    }
   ],
   "source": [
    "det_B = np.linalg.det(B)\n",
    "print(\"Determinant of B: \", det_B)"
   ]
  },
  {
   "cell_type": "code",
   "execution_count": 33,
   "metadata": {},
   "outputs": [
    {
     "name": "stdout",
     "output_type": "stream",
     "text": [
      "Inverse of B:  [[-0.14285714  0.28571429]\n",
      " [ 0.85714286 -0.71428571]]\n"
     ]
    }
   ],
   "source": [
    "inv_B = np.linalg.inv(B)\n",
    "print(\"Inverse of B: \", inv_B)"
   ]
  },
  {
   "cell_type": "code",
   "execution_count": 39,
   "metadata": {},
   "outputs": [
    {
     "name": "stdout",
     "output_type": "stream",
     "text": [
      "Inverse of D: \n",
      " [[ 0.07785888  0.10462287 -0.04136253]\n",
      " [-0.05109489  0.08759124  0.05839416]\n",
      " [ 0.08272506  0.0486618   0.14355231]]\n"
     ]
    }
   ],
   "source": [
    "inv_D = np.linalg.inv(D)\n",
    "print(\"Inverse of D: \\n\", inv_D)"
   ]
  },
  {
   "cell_type": "code",
   "execution_count": 41,
   "metadata": {},
   "outputs": [
    {
     "name": "stdout",
     "output_type": "stream",
     "text": [
      "[[ 1.00000000e+00  1.11022302e-16  0.00000000e+00]\n",
      " [ 6.93889390e-17  1.00000000e+00 -5.55111512e-17]\n",
      " [-1.38777878e-17 -8.32667268e-17  1.00000000e+00]]\n"
     ]
    }
   ],
   "source": [
    "pro1 = np.matmul(D,inv_D)\n",
    "print(pro1)"
   ]
  },
  {
   "cell_type": "code",
   "execution_count": 43,
   "metadata": {},
   "outputs": [
    {
     "name": "stdout",
     "output_type": "stream",
     "text": [
      "[[ 1.00000000e+00  6.93889390e-17  6.93889390e-18]\n",
      " [ 2.77555756e-17  1.00000000e+00 -2.08166817e-17]\n",
      " [ 0.00000000e+00  0.00000000e+00  1.00000000e+00]]\n"
     ]
    }
   ],
   "source": [
    "pro2 = np.matmul(inv_D, D)\n",
    "print(pro2)"
   ]
  },
  {
   "cell_type": "code",
   "execution_count": null,
   "metadata": {},
   "outputs": [],
   "source": []
  }
 ],
 "metadata": {
  "kernelspec": {
   "display_name": "Python 3 (ipykernel)",
   "language": "python",
   "name": "python3"
  },
  "language_info": {
   "codemirror_mode": {
    "name": "ipython",
    "version": 3
   },
   "file_extension": ".py",
   "mimetype": "text/x-python",
   "name": "python",
   "nbconvert_exporter": "python",
   "pygments_lexer": "ipython3",
   "version": "3.12.4"
  }
 },
 "nbformat": 4,
 "nbformat_minor": 4
}
