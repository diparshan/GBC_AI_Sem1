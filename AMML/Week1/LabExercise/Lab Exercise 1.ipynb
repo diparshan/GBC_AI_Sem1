{
 "cells": [
  {
   "cell_type": "markdown",
   "metadata": {},
   "source": [
    "<p style=\"font-family: Arial; font-size:3em;color:black;\"> Lab Exercise 1 </p>"
   ]
  },
  {
   "cell_type": "code",
   "execution_count": 3,
   "metadata": {},
   "outputs": [],
   "source": [
    "# importing numpy\n",
    "import numpy as np"
   ]
  },
  {
   "cell_type": "code",
   "execution_count": 22,
   "metadata": {},
   "outputs": [
    {
     "name": "stdout",
     "output_type": "stream",
     "text": [
      "The elements of arr1 is:  [1 2 3 5 0]\n",
      "Is arr1 non-zero?  False\n"
     ]
    }
   ],
   "source": [
    "# Create a numpy array with the elements \"1, 2, 3, 5, 0\", print the array and test if all of its elements are non-zero.\n",
    "arr1 = np.array([1,2,3,5,0])\n",
    "print(\"The elements of arr1 is: \", arr1)\n",
    "\n",
    "print(\"Is arr1 non-zero? \", np.all(arr1))"
   ]
  },
  {
   "cell_type": "code",
   "execution_count": 24,
   "metadata": {},
   "outputs": [
    {
     "name": "stdout",
     "output_type": "stream",
     "text": [
      "The elements of arr2 is:  [ 3 -1  3  7  2]\n",
      "Checking if any of the element is non-zero:  True\n"
     ]
    }
   ],
   "source": [
    "# Create a numpy array with the elements \"3, -1, 3, 7, 2\", print the array and test if any of its elements is non-zero.\n",
    "arr2 = np.array([3,-1,3,7,2])\n",
    "print(\"The elements of arr2 is: \", arr2)\n",
    "\n",
    "print(\"Checking if any of the element is non-zero: \", np.any(arr1))"
   ]
  },
  {
   "cell_type": "code",
   "execution_count": 28,
   "metadata": {},
   "outputs": [
    {
     "name": "stdout",
     "output_type": "stream",
     "text": [
      "[0 0 0 0]\n",
      "Check:  False\n"
     ]
    }
   ],
   "source": [
    "# Create a numpy array with the elements \"0, 0, 0, 0\", print the array and test if any of its elements is non-zero.\n",
    "arr3 = np.array([0,0,0,0])\n",
    "print(arr3)\n",
    "print(\"Check: \", np.any(arr3))"
   ]
  },
  {
   "cell_type": "code",
   "execution_count": 32,
   "metadata": {},
   "outputs": [
    {
     "name": "stdout",
     "output_type": "stream",
     "text": [
      "[56 -2  7]\n",
      "The amount of memory required:  24 bytes\n"
     ]
    }
   ],
   "source": [
    "# Create a numpy array with the elements \"56, -2, 7\", print the array and the amount of memory required to store it.\n",
    "arr4 = np.array([56, -2, 7])\n",
    "print(arr4)\n",
    "\n",
    "print(\"The amount of memory required: \", arr4.nbytes, \"bytes\")\n"
   ]
  },
  {
   "cell_type": "code",
   "execution_count": 42,
   "metadata": {},
   "outputs": [
    {
     "name": "stdout",
     "output_type": "stream",
     "text": [
      "10 zeros:  [0 0 0 0 0 0 0 0 0 0]\n",
      "6 ones:  [1 1 1 1 1 1]\n",
      "12 3's:  [3 3 3 3 3 3 3 3 3 3 3 3]\n"
     ]
    }
   ],
   "source": [
    "# Create a numpy array with 10 zeros and print the array.\n",
    "arr5 = np.full(10, 0)\n",
    "print(\"10 zeros: \", arr5)\n",
    "# Create a numpy array with 6 ones and print the array.\n",
    "arr6 = np.full(6, 1)\n",
    "print(\"6 ones: \", arr6)\n",
    "\n",
    "# Create a numpy array with 12 '3's and print the array. [3 3 3 3 3 3 3 3 3 3 3 3]\n",
    "arr7 = np.full(12, 3)\n",
    "print(\"12 3's: \", arr7)"
   ]
  },
  {
   "cell_type": "code",
   "execution_count": 52,
   "metadata": {},
   "outputs": [
    {
     "name": "stdout",
     "output_type": "stream",
     "text": [
      "int from 8 to 20:  [ 8  9 10 11 12 13 14 15 16 17 18 19 20]\n",
      "even between 8 and 20:  [ 8 10 12 14 16 18 20]\n"
     ]
    }
   ],
   "source": [
    "# Create a numpy array of the integers from 8 to 20 and print the array. (make sure 20 itself is included) hint:  use \"arange\" method\n",
    "#arrange(start, stop,step, dtype)\n",
    "#stop value is exclusive so 21\n",
    "arr8 = np.arange(8, 21)\n",
    "print(\"int from 8 to 20: \", arr8)\n",
    "\n",
    "# Create a numpy array of the even integers from 8 to 20 and print the array. (make sure 20 itself is included)   hint:  use \"arange\" method\n",
    "arr9 = np.arange(8, 21, 2)\n",
    "print(\"even between 8 and 20: \", arr9)"
   ]
  },
  {
   "cell_type": "code",
   "execution_count": 82,
   "metadata": {},
   "outputs": [
    {
     "name": "stdout",
     "output_type": "stream",
     "text": [
      "100 random element\n",
      "mean:  2.0197616964982252\n",
      "max:  3.94124532137875\n",
      "min:  0.29071436961790775\n",
      "std:  0.5131574640733637 \n",
      "\n",
      "1000 random elemnts\n",
      "mean:  2.0160133433498717\n",
      "max:  3.656292722494661\n",
      "min:  -0.07946133306404235\n",
      "std:  0.5097158099020133\n"
     ]
    }
   ],
   "source": [
    "# Create a numpy array consisting of 100 random elements from normal distribution with mean of 2 and std of 0.5. Print the mean, max, min and std of the array.\n",
    "arr10 = np.random.normal(2, 0.5, 100)\n",
    "#print(\"100 elements: \", arr10)\n",
    "print(\"100 random elements\\b\")\n",
    "print(\"mean: \", np.mean(arr10))\n",
    "print(\"max: \", np.max(arr10))\n",
    "print(\"min: \", np.min(arr10))\n",
    "print(\"std: \", np.std(arr10), \"\\n\")\n",
    "\n",
    "# Create a numpy array consisting of 1000 random elements from normal distribution with mean of 2 and std of 0.5. Print the mean, max, min and std of the array.\n",
    "arr11 = np.random.normal(2,0.5,1000)\n",
    "print(\"1000 random elemnts \\b\")\n",
    "print(\"mean: \", np.mean(arr11))\n",
    "print(\"max: \", np.max(arr11))\n",
    "print(\"min: \", np.min(arr11))\n",
    "print(\"std: \", np.std(arr11))\n",
    "# Create a numpy array consisting of 1000000 random elements from normal distribution with mean of 2 and std of 0.5. Print the mean, max, min and std of the array.\n",
    "\n",
    "# (Bonus question) Looking at the three above examples with 1000, 5000, and 10000 random elements, do you have any observations about mean and std values?\n"
   ]
  },
  {
   "cell_type": "code",
   "execution_count": null,
   "metadata": {},
   "outputs": [],
   "source": []
  }
 ],
 "metadata": {
  "kernelspec": {
   "display_name": "Python 3 (ipykernel)",
   "language": "python",
   "name": "python3"
  },
  "language_info": {
   "codemirror_mode": {
    "name": "ipython",
    "version": 3
   },
   "file_extension": ".py",
   "mimetype": "text/x-python",
   "name": "python",
   "nbconvert_exporter": "python",
   "pygments_lexer": "ipython3",
   "version": "3.12.4"
  }
 },
 "nbformat": 4,
 "nbformat_minor": 4
}
