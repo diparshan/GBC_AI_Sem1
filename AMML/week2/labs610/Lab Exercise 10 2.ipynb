{
 "cells": [
  {
   "cell_type": "markdown",
   "metadata": {},
   "source": [
    "<p style=\"font-family: Arial; font-size:3em;color:black;\"> Lab Exercise 10</p>"
   ]
  },
  {
   "cell_type": "code",
   "execution_count": 24,
   "metadata": {},
   "outputs": [],
   "source": [
    "import pandas as pd\n",
    "import numpy as np\n",
    "import matplotlib.pyplot as plt\n",
    "np.random.seed(5)  # creating pseudo-random numbers for reproducibility"
   ]
  },
  {
   "cell_type": "code",
   "execution_count": 25,
   "metadata": {},
   "outputs": [
    {
     "name": "stdout",
     "output_type": "stream",
     "text": [
      "     0    1    2    3    4    5    6\n",
      "0  4.0  2.0  4.0  5.0  4.0  2.0  2.0\n",
      "1  4.0  4.0  3.0  2.0  2.0  5.0  4.0\n",
      "2  4.0  1.0  4.0  7.0  3.0  6.0  2.0\n",
      "3  8.0  1.0  2.0  0.0  5.0  0.0  7.0\n",
      "4  4.0  5.0  8.0  7.0  6.0  2.0  3.0\n"
     ]
    }
   ],
   "source": [
    "# Let's consider the following A_orig matrix:\n",
    "\n",
    "A_orig = np.array([[4, 2, 4, 5, 4, 2, 2], [4, 4, 3, 2, 2, 5, 4], [4, 1, 4, 7, 3, 6, 2], [8 ,1, 2, 0, 5, 0, 7], [4 , 5, 8, 7, 6, 2, 3]],dtype=float)\n",
    "M, N = 5, 7\n",
    "print (pd.DataFrame(A_orig).head())"
   ]
  },
  {
   "cell_type": "code",
   "execution_count": 26,
   "metadata": {},
   "outputs": [
    {
     "name": "stdout",
     "output_type": "stream",
     "text": [
      "     0    1    2    3    4    5    6\n",
      "0  4.0  2.0  4.0  5.0  4.0  2.0  2.0\n",
      "1  4.0  4.0  3.0  2.0  2.0  5.0  4.0\n",
      "2  4.0  1.0  4.0  7.0  3.0  6.0  2.0\n",
      "3  8.0  NaN  2.0  0.0  5.0  0.0  7.0\n",
      "4  4.0  5.0  8.0  7.0  6.0  2.0  NaN\n"
     ]
    }
   ],
   "source": [
    "# Let's add some NaN(s) to  A_orig matrix\n",
    "\n",
    "A = A_orig.copy()\n",
    "A[3][1] = np.NaN\n",
    "A[4][6] = np.NaN\n",
    "\n",
    "A_df = pd.DataFrame(A)\n",
    "print (A_df.head())"
   ]
  },
  {
   "cell_type": "code",
   "execution_count": 27,
   "metadata": {},
   "outputs": [],
   "source": [
    "def compute_missing_error(original_matrix, reconstructed_matrix, missing_indices):\n",
    "    errors = []\n",
    "    for (i, j) in missing_indices:\n",
    "        original_value = original_matrix[i, j]\n",
    "        predicted_value = reconstructed_matrix[i, j]\n",
    "        error = abs(original_value - predicted_value) / original_value * 100\n",
    "        errors.append(error)\n",
    "    return np.mean(errors)\n"
   ]
  },
  {
   "cell_type": "code",
   "execution_count": 28,
   "metadata": {},
   "outputs": [],
   "source": [
    "# Fine tune K value such that the (average percentage) error for the 2 missing elements is minimum.\n",
    "# Remember: this is an exercise where we have the actual values for missing elements. \n",
    "# In real-life scenarios missins elements are not known and you may need different metric(s)\n",
    "# to assess the quality of your reconstructed matrix.\n",
    "K = 1\n",
    "P = np.abs(np.random.uniform(low=0, high=8, size=(M, K)))\n",
    "Q = np.abs(np.random.uniform(low=0, high=8, size=(K, N)))\n",
    "P = np.divide(P, K*P.max())\n",
    "Q = np.divide(Q, K*Q.max())"
   ]
  },
  {
   "cell_type": "code",
   "execution_count": 31,
   "metadata": {},
   "outputs": [],
   "source": [
    "def matrix_factorization(Rating_Matrix, P, Q, K, steps, alpha=0.001, beta=0.02):\n",
    "    for step in range(steps):\n",
    "        for i in range(len(Rating_Matrix)):  \n",
    "            for j in range(len(Rating_Matrix[i])):  \n",
    "                if ~np.isnan(Rating_Matrix[i][j]):  \n",
    "                    \n",
    "                    eij = Rating_Matrix[i][j] - np.dot(P[i, :], Q[:, j])\n",
    "                    for k in range(K):\n",
    "                        P[i][k] += alpha * (2 * eij * Q[k][j] - beta * P[i][k])\n",
    "                        Q[k][j] += alpha * (2 * eij * P[i][k] - beta * Q[k][j])\n",
    "        #computing total error\n",
    "        e = 0\n",
    "        for i in range(len(Rating_Matrix)):\n",
    "            for j in range(len(Rating_Matrix[i])):\n",
    "                if ~np.isnan(Rating_Matrix[i][j]):\n",
    "                    e += pow(Rating_Matrix[i][j] - np.dot(P[i, :], Q[:, j]), 2)\n",
    "                    for k in range(K):\n",
    "                        e += (beta / 2) * (pow(P[i][k], 2) + pow(Q[k][j], 2))\n",
    "        if step % 100 == 0:\n",
    "            print(f\"Step {step}, Total Error: {e:.4f}\")\n",
    "        if e < 0.0001:\n",
    "            break\n",
    "    return P, Q\n"
   ]
  },
  {
   "cell_type": "code",
   "execution_count": 34,
   "metadata": {},
   "outputs": [
    {
     "name": "stdout",
     "output_type": "stream",
     "text": [
      "Testing K=2: P shape=(5, 2), Q shape=(2, 7)\n",
      "Step 0, Total Error: 608.9646\n",
      "Step 100, Total Error: 106.9289\n",
      "Step 200, Total Error: 49.7035\n",
      "Step 300, Total Error: 41.1122\n",
      "Step 400, Total Error: 39.6085\n",
      "Step 500, Total Error: 38.6657\n",
      "Step 600, Total Error: 38.1036\n",
      "Step 700, Total Error: 37.7735\n",
      "Step 800, Total Error: 37.5756\n",
      "Step 900, Total Error: 37.4534\n",
      "K=2, Average Percentage Error=457.98%\n",
      "Testing K=3: P shape=(5, 3), Q shape=(3, 7)\n",
      "Step 0, Total Error: 611.4907\n",
      "Step 100, Total Error: 105.6290\n",
      "Step 200, Total Error: 48.7233\n",
      "Step 300, Total Error: 35.7977\n",
      "Step 400, Total Error: 26.3224\n",
      "Step 500, Total Error: 18.9023\n",
      "Step 600, Total Error: 14.8089\n",
      "Step 700, Total Error: 12.5641\n",
      "Step 800, Total Error: 11.4215\n",
      "Step 900, Total Error: 10.8613\n",
      "K=3, Average Percentage Error=409.25%\n",
      "Testing K=4: P shape=(5, 4), Q shape=(4, 7)\n",
      "Step 0, Total Error: 623.8044\n",
      "Step 100, Total Error: 116.0555\n",
      "Step 200, Total Error: 97.5362\n",
      "Step 300, Total Error: 46.6994\n",
      "Step 400, Total Error: 31.4878\n",
      "Step 500, Total Error: 22.5411\n",
      "Step 600, Total Error: 18.2434\n",
      "Step 700, Total Error: 14.6673\n",
      "Step 800, Total Error: 10.9423\n",
      "Step 900, Total Error: 7.5353\n",
      "K=4, Average Percentage Error=337.55%\n",
      "Testing K=5: P shape=(5, 5), Q shape=(5, 7)\n",
      "Step 0, Total Error: 628.7446\n",
      "Step 100, Total Error: 114.0329\n",
      "Step 200, Total Error: 65.9545\n",
      "Step 300, Total Error: 25.4320\n",
      "Step 400, Total Error: 13.0224\n",
      "Step 500, Total Error: 10.2044\n",
      "Step 600, Total Error: 8.0402\n",
      "Step 700, Total Error: 6.1234\n",
      "Step 800, Total Error: 5.1428\n",
      "Step 900, Total Error: 4.8525\n",
      "K=5, Average Percentage Error=333.43%\n",
      "Testing K=6: P shape=(5, 6), Q shape=(6, 7)\n",
      "Step 0, Total Error: 631.6972\n",
      "Step 100, Total Error: 113.4588\n",
      "Step 200, Total Error: 62.3131\n",
      "Step 300, Total Error: 28.4814\n",
      "Step 400, Total Error: 12.0981\n",
      "Step 500, Total Error: 7.1547\n",
      "Step 600, Total Error: 5.3126\n",
      "Step 700, Total Error: 4.7868\n",
      "Step 800, Total Error: 4.6829\n",
      "Step 900, Total Error: 4.6603\n",
      "K=6, Average Percentage Error=254.00%\n",
      "Testing K=7: P shape=(5, 7), Q shape=(7, 7)\n",
      "Step 0, Total Error: 629.4142\n",
      "Step 100, Total Error: 114.3447\n",
      "Step 200, Total Error: 68.0542\n",
      "Step 300, Total Error: 37.8344\n",
      "Step 400, Total Error: 27.4238\n",
      "Step 500, Total Error: 10.3877\n",
      "Step 600, Total Error: 5.0892\n",
      "Step 700, Total Error: 4.7696\n",
      "Step 800, Total Error: 4.7320\n",
      "Step 900, Total Error: 4.7126\n",
      "K=7, Average Percentage Error=242.25%\n",
      "Testing K=8: P shape=(5, 8), Q shape=(8, 7)\n",
      "Step 0, Total Error: 633.3324\n",
      "Step 100, Total Error: 115.3870\n",
      "Step 200, Total Error: 72.2297\n",
      "Step 300, Total Error: 31.4323\n",
      "Step 400, Total Error: 14.7626\n",
      "Step 500, Total Error: 9.3492\n",
      "Step 600, Total Error: 6.6536\n",
      "Step 700, Total Error: 5.2266\n",
      "Step 800, Total Error: 4.8086\n",
      "Step 900, Total Error: 4.7230\n",
      "K=8, Average Percentage Error=289.11%\n",
      "Testing K=9: P shape=(5, 9), Q shape=(9, 7)\n",
      "Step 0, Total Error: 634.0587\n",
      "Step 100, Total Error: 114.8649\n",
      "Step 200, Total Error: 69.4309\n",
      "Step 300, Total Error: 24.3177\n",
      "Step 400, Total Error: 12.0099\n",
      "Step 500, Total Error: 7.9761\n",
      "Step 600, Total Error: 5.6532\n",
      "Step 700, Total Error: 4.8608\n",
      "Step 800, Total Error: 4.7029\n",
      "Step 900, Total Error: 4.6742\n",
      "K=9, Average Percentage Error=264.73%\n"
     ]
    }
   ],
   "source": [
    "\n",
    "missing_indices = [(3, 1), (4, 6)]  \n",
    "\n",
    "for K in range(2, 10):\n",
    "    P = np.abs(np.random.uniform(low=0, high=8, size=(M, K)))\n",
    "    Q = np.abs(np.random.uniform(low=0, high=8, size=(K, N)))\n",
    "    P = np.divide(P, K * P.max())\n",
    "    Q = np.divide(Q, K * Q.max())\n",
    "\n",
    "    print(f\"Testing K={K}: P shape={P.shape}, Q shape={Q.shape}\")\n",
    "    \n",
    "    \n",
    "    eP, eQ = matrix_factorization(A, P, Q, K, steps=1000)\n",
    "    \n",
    "    \n",
    "    eA = np.matmul(eP, eQ)\n",
    "    \n",
    "    \n",
    "    error = compute_missing_error(A_orig, eA, missing_indices)\n",
    "    print(f\"K={K}, Average Percentage Error={error:.2f}%\")\n"
   ]
  },
  {
   "cell_type": "code",
   "execution_count": null,
   "metadata": {},
   "outputs": [],
   "source": [
    "# for me k=7 has the average error of 242.25% which is pretty high but for this case this one is the best option.\n",
    "# I can normalize and scale the A_org matrix to get better value or increase the number of iterations to help model improve over time."
   ]
  }
 ],
 "metadata": {
  "kernelspec": {
   "display_name": "Python 3 (ipykernel)",
   "language": "python",
   "name": "python3"
  },
  "language_info": {
   "codemirror_mode": {
    "name": "ipython",
    "version": 3
   },
   "file_extension": ".py",
   "mimetype": "text/x-python",
   "name": "python",
   "nbconvert_exporter": "python",
   "pygments_lexer": "ipython3",
   "version": "3.12.4"
  }
 },
 "nbformat": 4,
 "nbformat_minor": 4
}
