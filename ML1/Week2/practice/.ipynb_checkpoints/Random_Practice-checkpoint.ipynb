{
 "cells": [
  {
   "cell_type": "code",
   "execution_count": 22,
   "id": "5b780879-64ab-4544-9d79-d58c98f51f6a",
   "metadata": {},
   "outputs": [],
   "source": [
    "import pandas as pd\n",
    "import numpy as np"
   ]
  },
  {
   "cell_type": "code",
   "execution_count": 4,
   "id": "af0589e2-7693-4a35-9aeb-5130aa41c8dc",
   "metadata": {},
   "outputs": [],
   "source": [
    "data = pd.Series([0.23, 0.5, 0.5, 0.6])"
   ]
  },
  {
   "cell_type": "code",
   "execution_count": 6,
   "id": "59af33bf-af72-4c47-9352-5b1624044d12",
   "metadata": {},
   "outputs": [
    {
     "data": {
      "text/plain": [
       "0    0.23\n",
       "1    0.50\n",
       "2    0.50\n",
       "3    0.60\n",
       "dtype: float64"
      ]
     },
     "execution_count": 6,
     "metadata": {},
     "output_type": "execute_result"
    }
   ],
   "source": [
    "data"
   ]
  },
  {
   "cell_type": "code",
   "execution_count": 14,
   "id": "133424be-f775-4201-aaf6-3b9cf14d0fb6",
   "metadata": {},
   "outputs": [
    {
     "data": {
      "text/plain": [
       "1    0.5\n",
       "2    0.5\n",
       "dtype: float64"
      ]
     },
     "execution_count": 14,
     "metadata": {},
     "output_type": "execute_result"
    }
   ],
   "source": [
    "data.values\n",
    "data.index\n",
    "data[1]\n",
    "data[1:3]"
   ]
  },
  {
   "cell_type": "code",
   "execution_count": 20,
   "id": "d104a43a-b747-4451-b2c1-874faa963551",
   "metadata": {},
   "outputs": [
    {
     "name": "stdout",
     "output_type": "stream",
     "text": [
      "   col one  col two\n",
      "0      100      300\n",
      "1      200      400\n",
      "        city      river\n",
      "0  kathmandu    trisuli\n",
      "1  bhaktapur  bisnumati\n"
     ]
    }
   ],
   "source": [
    "df = pd.DataFrame({'col one': [100, 200], 'col two': [300, 400]})\n",
    "df1 = pd.DataFrame({'city': ['kathmandu', 'bhaktapur'], 'river': ['trisuli', 'bisnumati']})\n",
    "print(df)\n",
    "print(df1)"
   ]
  },
  {
   "cell_type": "code",
   "execution_count": 24,
   "id": "d9bc1c2a-9a41-4900-b633-35b66504085a",
   "metadata": {},
   "outputs": [
    {
     "data": {
      "text/html": [
       "<div>\n",
       "<style scoped>\n",
       "    .dataframe tbody tr th:only-of-type {\n",
       "        vertical-align: middle;\n",
       "    }\n",
       "\n",
       "    .dataframe tbody tr th {\n",
       "        vertical-align: top;\n",
       "    }\n",
       "\n",
       "    .dataframe thead th {\n",
       "        text-align: right;\n",
       "    }\n",
       "</style>\n",
       "<table border=\"1\" class=\"dataframe\">\n",
       "  <thead>\n",
       "    <tr style=\"text-align: right;\">\n",
       "      <th></th>\n",
       "      <th>0</th>\n",
       "      <th>1</th>\n",
       "      <th>2</th>\n",
       "      <th>3</th>\n",
       "      <th>4</th>\n",
       "      <th>5</th>\n",
       "      <th>6</th>\n",
       "      <th>7</th>\n",
       "    </tr>\n",
       "  </thead>\n",
       "  <tbody>\n",
       "    <tr>\n",
       "      <th>0</th>\n",
       "      <td>0.104407</td>\n",
       "      <td>0.604312</td>\n",
       "      <td>0.571119</td>\n",
       "      <td>0.944492</td>\n",
       "      <td>0.736736</td>\n",
       "      <td>0.711318</td>\n",
       "      <td>0.337767</td>\n",
       "      <td>0.106207</td>\n",
       "    </tr>\n",
       "    <tr>\n",
       "      <th>1</th>\n",
       "      <td>0.005234</td>\n",
       "      <td>0.111685</td>\n",
       "      <td>0.891602</td>\n",
       "      <td>0.399998</td>\n",
       "      <td>0.978249</td>\n",
       "      <td>0.702306</td>\n",
       "      <td>0.223249</td>\n",
       "      <td>0.429306</td>\n",
       "    </tr>\n",
       "    <tr>\n",
       "      <th>2</th>\n",
       "      <td>0.038707</td>\n",
       "      <td>0.758495</td>\n",
       "      <td>0.838099</td>\n",
       "      <td>0.182684</td>\n",
       "      <td>0.775569</td>\n",
       "      <td>0.221968</td>\n",
       "      <td>0.863874</td>\n",
       "      <td>0.304133</td>\n",
       "    </tr>\n",
       "    <tr>\n",
       "      <th>3</th>\n",
       "      <td>0.486984</td>\n",
       "      <td>0.043290</td>\n",
       "      <td>0.637394</td>\n",
       "      <td>0.318430</td>\n",
       "      <td>0.002375</td>\n",
       "      <td>0.027187</td>\n",
       "      <td>0.588964</td>\n",
       "      <td>0.201871</td>\n",
       "    </tr>\n",
       "  </tbody>\n",
       "</table>\n",
       "</div>"
      ],
      "text/plain": [
       "          0         1         2         3         4         5         6  \\\n",
       "0  0.104407  0.604312  0.571119  0.944492  0.736736  0.711318  0.337767   \n",
       "1  0.005234  0.111685  0.891602  0.399998  0.978249  0.702306  0.223249   \n",
       "2  0.038707  0.758495  0.838099  0.182684  0.775569  0.221968  0.863874   \n",
       "3  0.486984  0.043290  0.637394  0.318430  0.002375  0.027187  0.588964   \n",
       "\n",
       "          7  \n",
       "0  0.106207  \n",
       "1  0.429306  \n",
       "2  0.304133  \n",
       "3  0.201871  "
      ]
     },
     "execution_count": 24,
     "metadata": {},
     "output_type": "execute_result"
    }
   ],
   "source": [
    "#creating random dataframe with random values we use numpy random.rand\n",
    "pd.DataFrame(np.random.rand(4,8))"
   ]
  },
  {
   "cell_type": "code",
   "execution_count": 28,
   "id": "d18d7efb-91b3-493a-9878-e9a694d19a71",
   "metadata": {},
   "outputs": [
    {
     "data": {
      "text/html": [
       "<div>\n",
       "<style scoped>\n",
       "    .dataframe tbody tr th:only-of-type {\n",
       "        vertical-align: middle;\n",
       "    }\n",
       "\n",
       "    .dataframe tbody tr th {\n",
       "        vertical-align: top;\n",
       "    }\n",
       "\n",
       "    .dataframe thead th {\n",
       "        text-align: right;\n",
       "    }\n",
       "</style>\n",
       "<table border=\"1\" class=\"dataframe\">\n",
       "  <thead>\n",
       "    <tr style=\"text-align: right;\">\n",
       "      <th></th>\n",
       "      <th>a</th>\n",
       "      <th>b</th>\n",
       "      <th>c</th>\n",
       "      <th>d</th>\n",
       "      <th>e</th>\n",
       "      <th>f</th>\n",
       "    </tr>\n",
       "  </thead>\n",
       "  <tbody>\n",
       "    <tr>\n",
       "      <th>0</th>\n",
       "      <td>0.004131</td>\n",
       "      <td>0.104055</td>\n",
       "      <td>0.284059</td>\n",
       "      <td>0.676227</td>\n",
       "      <td>0.105378</td>\n",
       "      <td>0.781323</td>\n",
       "    </tr>\n",
       "    <tr>\n",
       "      <th>1</th>\n",
       "      <td>0.057973</td>\n",
       "      <td>0.956846</td>\n",
       "      <td>0.817317</td>\n",
       "      <td>0.706585</td>\n",
       "      <td>0.963306</td>\n",
       "      <td>0.448859</td>\n",
       "    </tr>\n",
       "    <tr>\n",
       "      <th>2</th>\n",
       "      <td>0.407344</td>\n",
       "      <td>0.776999</td>\n",
       "      <td>0.657861</td>\n",
       "      <td>0.013448</td>\n",
       "      <td>0.818900</td>\n",
       "      <td>0.114145</td>\n",
       "    </tr>\n",
       "    <tr>\n",
       "      <th>3</th>\n",
       "      <td>0.583024</td>\n",
       "      <td>0.316140</td>\n",
       "      <td>0.454818</td>\n",
       "      <td>0.732223</td>\n",
       "      <td>0.306127</td>\n",
       "      <td>0.445017</td>\n",
       "    </tr>\n",
       "    <tr>\n",
       "      <th>4</th>\n",
       "      <td>0.652032</td>\n",
       "      <td>0.039925</td>\n",
       "      <td>0.089486</td>\n",
       "      <td>0.814548</td>\n",
       "      <td>0.881257</td>\n",
       "      <td>0.829910</td>\n",
       "    </tr>\n",
       "  </tbody>\n",
       "</table>\n",
       "</div>"
      ],
      "text/plain": [
       "          a         b         c         d         e         f\n",
       "0  0.004131  0.104055  0.284059  0.676227  0.105378  0.781323\n",
       "1  0.057973  0.956846  0.817317  0.706585  0.963306  0.448859\n",
       "2  0.407344  0.776999  0.657861  0.013448  0.818900  0.114145\n",
       "3  0.583024  0.316140  0.454818  0.732223  0.306127  0.445017\n",
       "4  0.652032  0.039925  0.089486  0.814548  0.881257  0.829910"
      ]
     },
     "execution_count": 28,
     "metadata": {},
     "output_type": "execute_result"
    }
   ],
   "source": [
    "pd.DataFrame(np.random.rand(5,6), columns=list('abcdef'))\n",
    "#while writing the column names like this the number of characters should be equal to \n",
    "#the number of columns in the table"
   ]
  },
  {
   "cell_type": "code",
   "execution_count": 30,
   "id": "1af19065-4b04-4814-bd88-889ed0a5a835",
   "metadata": {},
   "outputs": [
    {
     "data": {
      "text/html": [
       "<div>\n",
       "<style scoped>\n",
       "    .dataframe tbody tr th:only-of-type {\n",
       "        vertical-align: middle;\n",
       "    }\n",
       "\n",
       "    .dataframe tbody tr th {\n",
       "        vertical-align: top;\n",
       "    }\n",
       "\n",
       "    .dataframe thead th {\n",
       "        text-align: right;\n",
       "    }\n",
       "</style>\n",
       "<table border=\"1\" class=\"dataframe\">\n",
       "  <thead>\n",
       "    <tr style=\"text-align: right;\">\n",
       "      <th></th>\n",
       "      <th>col one</th>\n",
       "      <th>col two</th>\n",
       "    </tr>\n",
       "  </thead>\n",
       "  <tbody>\n",
       "    <tr>\n",
       "      <th>0</th>\n",
       "      <td>100</td>\n",
       "      <td>300</td>\n",
       "    </tr>\n",
       "    <tr>\n",
       "      <th>1</th>\n",
       "      <td>200</td>\n",
       "      <td>400</td>\n",
       "    </tr>\n",
       "  </tbody>\n",
       "</table>\n",
       "</div>"
      ],
      "text/plain": [
       "   col one  col two\n",
       "0      100      300\n",
       "1      200      400"
      ]
     },
     "execution_count": 30,
     "metadata": {},
     "output_type": "execute_result"
    }
   ],
   "source": [
    "df"
   ]
  },
  {
   "cell_type": "code",
   "execution_count": 32,
   "id": "046eca0e-6606-4fce-80b4-0a3365a4ba15",
   "metadata": {},
   "outputs": [
    {
     "data": {
      "text/html": [
       "<div>\n",
       "<style scoped>\n",
       "    .dataframe tbody tr th:only-of-type {\n",
       "        vertical-align: middle;\n",
       "    }\n",
       "\n",
       "    .dataframe tbody tr th {\n",
       "        vertical-align: top;\n",
       "    }\n",
       "\n",
       "    .dataframe thead th {\n",
       "        text-align: right;\n",
       "    }\n",
       "</style>\n",
       "<table border=\"1\" class=\"dataframe\">\n",
       "  <thead>\n",
       "    <tr style=\"text-align: right;\">\n",
       "      <th></th>\n",
       "      <th>col_one</th>\n",
       "      <th>col_two</th>\n",
       "    </tr>\n",
       "  </thead>\n",
       "  <tbody>\n",
       "    <tr>\n",
       "      <th>0</th>\n",
       "      <td>100</td>\n",
       "      <td>300</td>\n",
       "    </tr>\n",
       "    <tr>\n",
       "      <th>1</th>\n",
       "      <td>200</td>\n",
       "      <td>400</td>\n",
       "    </tr>\n",
       "  </tbody>\n",
       "</table>\n",
       "</div>"
      ],
      "text/plain": [
       "   col_one  col_two\n",
       "0      100      300\n",
       "1      200      400"
      ]
     },
     "execution_count": 32,
     "metadata": {},
     "output_type": "execute_result"
    }
   ],
   "source": [
    "df.rename({'col one':'col_one', 'col two':'col_two'}, axis='columns')"
   ]
  },
  {
   "cell_type": "code",
   "execution_count": 34,
   "id": "71df8e90-7b63-49b7-9e9a-3f9921068b3a",
   "metadata": {},
   "outputs": [
    {
     "data": {
      "text/html": [
       "<div>\n",
       "<style scoped>\n",
       "    .dataframe tbody tr th:only-of-type {\n",
       "        vertical-align: middle;\n",
       "    }\n",
       "\n",
       "    .dataframe tbody tr th {\n",
       "        vertical-align: top;\n",
       "    }\n",
       "\n",
       "    .dataframe thead th {\n",
       "        text-align: right;\n",
       "    }\n",
       "</style>\n",
       "<table border=\"1\" class=\"dataframe\">\n",
       "  <thead>\n",
       "    <tr style=\"text-align: right;\">\n",
       "      <th></th>\n",
       "      <th>col1</th>\n",
       "      <th>col2</th>\n",
       "    </tr>\n",
       "  </thead>\n",
       "  <tbody>\n",
       "    <tr>\n",
       "      <th>0</th>\n",
       "      <td>100</td>\n",
       "      <td>300</td>\n",
       "    </tr>\n",
       "    <tr>\n",
       "      <th>1</th>\n",
       "      <td>200</td>\n",
       "      <td>400</td>\n",
       "    </tr>\n",
       "  </tbody>\n",
       "</table>\n",
       "</div>"
      ],
      "text/plain": [
       "   col1  col2\n",
       "0   100   300\n",
       "1   200   400"
      ]
     },
     "execution_count": 34,
     "metadata": {},
     "output_type": "execute_result"
    }
   ],
   "source": [
    "df.columns = ['col1', 'col2']\n",
    "df"
   ]
  },
  {
   "cell_type": "code",
   "execution_count": 36,
   "id": "e8e9118f-b295-4356-84d6-c44d8088f653",
   "metadata": {},
   "outputs": [
    {
     "data": {
      "text/html": [
       "<div>\n",
       "<style scoped>\n",
       "    .dataframe tbody tr th:only-of-type {\n",
       "        vertical-align: middle;\n",
       "    }\n",
       "\n",
       "    .dataframe tbody tr th {\n",
       "        vertical-align: top;\n",
       "    }\n",
       "\n",
       "    .dataframe thead th {\n",
       "        text-align: right;\n",
       "    }\n",
       "</style>\n",
       "<table border=\"1\" class=\"dataframe\">\n",
       "  <thead>\n",
       "    <tr style=\"text-align: right;\">\n",
       "      <th></th>\n",
       "      <th>col one</th>\n",
       "      <th>col two</th>\n",
       "    </tr>\n",
       "  </thead>\n",
       "  <tbody>\n",
       "    <tr>\n",
       "      <th>0</th>\n",
       "      <td>100</td>\n",
       "      <td>300</td>\n",
       "    </tr>\n",
       "    <tr>\n",
       "      <th>1</th>\n",
       "      <td>200</td>\n",
       "      <td>400</td>\n",
       "    </tr>\n",
       "  </tbody>\n",
       "</table>\n",
       "</div>"
      ],
      "text/plain": [
       "   col one  col two\n",
       "0      100      300\n",
       "1      200      400"
      ]
     },
     "execution_count": 36,
     "metadata": {},
     "output_type": "execute_result"
    }
   ],
   "source": [
    "df.columns = ['col one', 'col two']\n",
    "df"
   ]
  },
  {
   "cell_type": "code",
   "execution_count": 40,
   "id": "f67cfd2b-98f6-4029-b5ee-34f095fb2cd3",
   "metadata": {},
   "outputs": [
    {
     "data": {
      "text/html": [
       "<div>\n",
       "<style scoped>\n",
       "    .dataframe tbody tr th:only-of-type {\n",
       "        vertical-align: middle;\n",
       "    }\n",
       "\n",
       "    .dataframe tbody tr th {\n",
       "        vertical-align: top;\n",
       "    }\n",
       "\n",
       "    .dataframe thead th {\n",
       "        text-align: right;\n",
       "    }\n",
       "</style>\n",
       "<table border=\"1\" class=\"dataframe\">\n",
       "  <thead>\n",
       "    <tr style=\"text-align: right;\">\n",
       "      <th></th>\n",
       "      <th>col_one</th>\n",
       "      <th>col_two</th>\n",
       "    </tr>\n",
       "  </thead>\n",
       "  <tbody>\n",
       "    <tr>\n",
       "      <th>0</th>\n",
       "      <td>100</td>\n",
       "      <td>300</td>\n",
       "    </tr>\n",
       "    <tr>\n",
       "      <th>1</th>\n",
       "      <td>200</td>\n",
       "      <td>400</td>\n",
       "    </tr>\n",
       "  </tbody>\n",
       "</table>\n",
       "</div>"
      ],
      "text/plain": [
       "   col_one  col_two\n",
       "0      100      300\n",
       "1      200      400"
      ]
     },
     "execution_count": 40,
     "metadata": {},
     "output_type": "execute_result"
    }
   ],
   "source": [
    "df.columns = df.columns.str.replace(' ', '_')\n",
    "df"
   ]
  },
  {
   "cell_type": "code",
   "execution_count": 44,
   "id": "d036dfcd-de2b-469f-94b2-51f9d0e81896",
   "metadata": {},
   "outputs": [
    {
     "data": {
      "text/html": [
       "<div>\n",
       "<style scoped>\n",
       "    .dataframe tbody tr th:only-of-type {\n",
       "        vertical-align: middle;\n",
       "    }\n",
       "\n",
       "    .dataframe tbody tr th {\n",
       "        vertical-align: top;\n",
       "    }\n",
       "\n",
       "    .dataframe thead th {\n",
       "        text-align: right;\n",
       "    }\n",
       "</style>\n",
       "<table border=\"1\" class=\"dataframe\">\n",
       "  <thead>\n",
       "    <tr style=\"text-align: right;\">\n",
       "      <th></th>\n",
       "      <th>X_col_one</th>\n",
       "      <th>X_col_two</th>\n",
       "    </tr>\n",
       "  </thead>\n",
       "  <tbody>\n",
       "    <tr>\n",
       "      <th>0</th>\n",
       "      <td>100</td>\n",
       "      <td>300</td>\n",
       "    </tr>\n",
       "    <tr>\n",
       "      <th>1</th>\n",
       "      <td>200</td>\n",
       "      <td>400</td>\n",
       "    </tr>\n",
       "  </tbody>\n",
       "</table>\n",
       "</div>"
      ],
      "text/plain": [
       "   X_col_one  X_col_two\n",
       "0        100        300\n",
       "1        200        400"
      ]
     },
     "execution_count": 44,
     "metadata": {},
     "output_type": "execute_result"
    }
   ],
   "source": [
    "df.add_prefix('X_')\n"
   ]
  },
  {
   "cell_type": "code",
   "execution_count": 46,
   "id": "5698ee6f-f7d2-4ad2-b41e-a544c297dd8d",
   "metadata": {},
   "outputs": [
    {
     "data": {
      "text/html": [
       "<div>\n",
       "<style scoped>\n",
       "    .dataframe tbody tr th:only-of-type {\n",
       "        vertical-align: middle;\n",
       "    }\n",
       "\n",
       "    .dataframe tbody tr th {\n",
       "        vertical-align: top;\n",
       "    }\n",
       "\n",
       "    .dataframe thead th {\n",
       "        text-align: right;\n",
       "    }\n",
       "</style>\n",
       "<table border=\"1\" class=\"dataframe\">\n",
       "  <thead>\n",
       "    <tr style=\"text-align: right;\">\n",
       "      <th></th>\n",
       "      <th>col_one</th>\n",
       "      <th>col_two</th>\n",
       "    </tr>\n",
       "  </thead>\n",
       "  <tbody>\n",
       "    <tr>\n",
       "      <th>0</th>\n",
       "      <td>100</td>\n",
       "      <td>300</td>\n",
       "    </tr>\n",
       "    <tr>\n",
       "      <th>1</th>\n",
       "      <td>200</td>\n",
       "      <td>400</td>\n",
       "    </tr>\n",
       "  </tbody>\n",
       "</table>\n",
       "</div>"
      ],
      "text/plain": [
       "   col_one  col_two\n",
       "0      100      300\n",
       "1      200      400"
      ]
     },
     "execution_count": 46,
     "metadata": {},
     "output_type": "execute_result"
    }
   ],
   "source": [
    "df"
   ]
  },
  {
   "cell_type": "code",
   "execution_count": 48,
   "id": "95c0bc4e-cfad-4fd5-a875-aafaeb9c80b3",
   "metadata": {},
   "outputs": [
    {
     "data": {
      "text/html": [
       "<div>\n",
       "<style scoped>\n",
       "    .dataframe tbody tr th:only-of-type {\n",
       "        vertical-align: middle;\n",
       "    }\n",
       "\n",
       "    .dataframe tbody tr th {\n",
       "        vertical-align: top;\n",
       "    }\n",
       "\n",
       "    .dataframe thead th {\n",
       "        text-align: right;\n",
       "    }\n",
       "</style>\n",
       "<table border=\"1\" class=\"dataframe\">\n",
       "  <thead>\n",
       "    <tr style=\"text-align: right;\">\n",
       "      <th></th>\n",
       "      <th>col_one_Y</th>\n",
       "      <th>col_two_Y</th>\n",
       "    </tr>\n",
       "  </thead>\n",
       "  <tbody>\n",
       "    <tr>\n",
       "      <th>0</th>\n",
       "      <td>100</td>\n",
       "      <td>300</td>\n",
       "    </tr>\n",
       "    <tr>\n",
       "      <th>1</th>\n",
       "      <td>200</td>\n",
       "      <td>400</td>\n",
       "    </tr>\n",
       "  </tbody>\n",
       "</table>\n",
       "</div>"
      ],
      "text/plain": [
       "   col_one_Y  col_two_Y\n",
       "0        100        300\n",
       "1        200        400"
      ]
     },
     "execution_count": 48,
     "metadata": {},
     "output_type": "execute_result"
    }
   ],
   "source": [
    "df.add_suffix('_Y')"
   ]
  },
  {
   "cell_type": "code",
   "execution_count": 52,
   "id": "fb42f674-7707-4155-a79f-650f1de64c68",
   "metadata": {},
   "outputs": [
    {
     "data": {
      "text/plain": [
       "Cal    2342\n",
       "Tex    3424\n",
       "NY     9349\n",
       "Flo    7340\n",
       "Ill    9349\n",
       "dtype: int64"
      ]
     },
     "execution_count": 52,
     "metadata": {},
     "output_type": "execute_result"
    }
   ],
   "source": [
    "population_dict = {'Cal': 2342,\n",
    "                   'Tex': 3424,\n",
    "                   'NY': 9349,\n",
    "                   'Flo': 7340,\n",
    "                   'Ill': 9349}\n",
    "population = pd.Series(population_dict)\n",
    "population"
   ]
  },
  {
   "cell_type": "code",
   "execution_count": 56,
   "id": "7da9088d-ec1e-495c-b174-6e2d20ededd5",
   "metadata": {},
   "outputs": [
    {
     "data": {
      "text/plain": [
       "Cal    542\n",
       "Tex    354\n",
       "NY     123\n",
       "Flo    643\n",
       "Ill    768\n",
       "dtype: int64"
      ]
     },
     "execution_count": 56,
     "metadata": {},
     "output_type": "execute_result"
    }
   ],
   "source": [
    "area_dict = {'Cal': 542,\n",
    "                   'Tex': 354,\n",
    "                   'NY': 123,\n",
    "                   'Flo': 643,\n",
    "                   'Ill': 768}\n",
    "area = pd.Series(area_dict)\n",
    "area"
   ]
  },
  {
   "cell_type": "code",
   "execution_count": 60,
   "id": "0532172d-0b85-40da-a07a-17da925fef2f",
   "metadata": {},
   "outputs": [
    {
     "data": {
      "text/html": [
       "<div>\n",
       "<style scoped>\n",
       "    .dataframe tbody tr th:only-of-type {\n",
       "        vertical-align: middle;\n",
       "    }\n",
       "\n",
       "    .dataframe tbody tr th {\n",
       "        vertical-align: top;\n",
       "    }\n",
       "\n",
       "    .dataframe thead th {\n",
       "        text-align: right;\n",
       "    }\n",
       "</style>\n",
       "<table border=\"1\" class=\"dataframe\">\n",
       "  <thead>\n",
       "    <tr style=\"text-align: right;\">\n",
       "      <th></th>\n",
       "      <th>population</th>\n",
       "      <th>area</th>\n",
       "    </tr>\n",
       "  </thead>\n",
       "  <tbody>\n",
       "    <tr>\n",
       "      <th>Cal</th>\n",
       "      <td>2342</td>\n",
       "      <td>542</td>\n",
       "    </tr>\n",
       "    <tr>\n",
       "      <th>Tex</th>\n",
       "      <td>3424</td>\n",
       "      <td>354</td>\n",
       "    </tr>\n",
       "    <tr>\n",
       "      <th>NY</th>\n",
       "      <td>9349</td>\n",
       "      <td>123</td>\n",
       "    </tr>\n",
       "    <tr>\n",
       "      <th>Flo</th>\n",
       "      <td>7340</td>\n",
       "      <td>643</td>\n",
       "    </tr>\n",
       "    <tr>\n",
       "      <th>Ill</th>\n",
       "      <td>9349</td>\n",
       "      <td>768</td>\n",
       "    </tr>\n",
       "  </tbody>\n",
       "</table>\n",
       "</div>"
      ],
      "text/plain": [
       "     population  area\n",
       "Cal        2342   542\n",
       "Tex        3424   354\n",
       "NY         9349   123\n",
       "Flo        7340   643\n",
       "Ill        9349   768"
      ]
     },
     "execution_count": 60,
     "metadata": {},
     "output_type": "execute_result"
    }
   ],
   "source": [
    "states = pd.DataFrame({'population': population, 'area': area})\n",
    "states"
   ]
  },
  {
   "cell_type": "code",
   "execution_count": 62,
   "id": "7a678308-11ea-40a2-8ebf-948314ea77c4",
   "metadata": {},
   "outputs": [
    {
     "data": {
      "text/html": [
       "<div>\n",
       "<style scoped>\n",
       "    .dataframe tbody tr th:only-of-type {\n",
       "        vertical-align: middle;\n",
       "    }\n",
       "\n",
       "    .dataframe tbody tr th {\n",
       "        vertical-align: top;\n",
       "    }\n",
       "\n",
       "    .dataframe thead th {\n",
       "        text-align: right;\n",
       "    }\n",
       "</style>\n",
       "<table border=\"1\" class=\"dataframe\">\n",
       "  <thead>\n",
       "    <tr style=\"text-align: right;\">\n",
       "      <th></th>\n",
       "      <th>a</th>\n",
       "      <th>b</th>\n",
       "    </tr>\n",
       "  </thead>\n",
       "  <tbody>\n",
       "    <tr>\n",
       "      <th>0</th>\n",
       "      <td>0</td>\n",
       "      <td>0</td>\n",
       "    </tr>\n",
       "    <tr>\n",
       "      <th>1</th>\n",
       "      <td>1</td>\n",
       "      <td>2</td>\n",
       "    </tr>\n",
       "    <tr>\n",
       "      <th>2</th>\n",
       "      <td>2</td>\n",
       "      <td>4</td>\n",
       "    </tr>\n",
       "  </tbody>\n",
       "</table>\n",
       "</div>"
      ],
      "text/plain": [
       "   a  b\n",
       "0  0  0\n",
       "1  1  2\n",
       "2  2  4"
      ]
     },
     "execution_count": 62,
     "metadata": {},
     "output_type": "execute_result"
    }
   ],
   "source": [
    "data = [{'a': i, 'b':2*i}\n",
    "        for i in range(3)]\n",
    "pd.DataFrame(data)"
   ]
  },
  {
   "cell_type": "code",
   "execution_count": 66,
   "id": "26654a1a-f1bf-4ae8-857d-ecc78c46c7f7",
   "metadata": {},
   "outputs": [
    {
     "data": {
      "text/html": [
       "<div>\n",
       "<style scoped>\n",
       "    .dataframe tbody tr th:only-of-type {\n",
       "        vertical-align: middle;\n",
       "    }\n",
       "\n",
       "    .dataframe tbody tr th {\n",
       "        vertical-align: top;\n",
       "    }\n",
       "\n",
       "    .dataframe thead th {\n",
       "        text-align: right;\n",
       "    }\n",
       "</style>\n",
       "<table border=\"1\" class=\"dataframe\">\n",
       "  <thead>\n",
       "    <tr style=\"text-align: right;\">\n",
       "      <th></th>\n",
       "      <th>a</th>\n",
       "      <th>b</th>\n",
       "    </tr>\n",
       "  </thead>\n",
       "  <tbody>\n",
       "    <tr>\n",
       "      <th>0</th>\n",
       "      <td>0</td>\n",
       "      <td>0</td>\n",
       "    </tr>\n",
       "    <tr>\n",
       "      <th>1</th>\n",
       "      <td>1</td>\n",
       "      <td>1</td>\n",
       "    </tr>\n",
       "    <tr>\n",
       "      <th>2</th>\n",
       "      <td>2</td>\n",
       "      <td>4</td>\n",
       "    </tr>\n",
       "    <tr>\n",
       "      <th>3</th>\n",
       "      <td>3</td>\n",
       "      <td>9</td>\n",
       "    </tr>\n",
       "    <tr>\n",
       "      <th>4</th>\n",
       "      <td>4</td>\n",
       "      <td>16</td>\n",
       "    </tr>\n",
       "  </tbody>\n",
       "</table>\n",
       "</div>"
      ],
      "text/plain": [
       "   a   b\n",
       "0  0   0\n",
       "1  1   1\n",
       "2  2   4\n",
       "3  3   9\n",
       "4  4  16"
      ]
     },
     "execution_count": 66,
     "metadata": {},
     "output_type": "execute_result"
    }
   ],
   "source": [
    "dat = [{'a': i, 'b': i*i} for i in range(5)]\n",
    "dat\n",
    "pd.DataFrame(dat)"
   ]
  },
  {
   "cell_type": "code",
   "execution_count": 68,
   "id": "1e6d8750-d208-4d6e-beed-f9651f28ecd4",
   "metadata": {},
   "outputs": [
    {
     "data": {
      "text/html": [
       "<div>\n",
       "<style scoped>\n",
       "    .dataframe tbody tr th:only-of-type {\n",
       "        vertical-align: middle;\n",
       "    }\n",
       "\n",
       "    .dataframe tbody tr th {\n",
       "        vertical-align: top;\n",
       "    }\n",
       "\n",
       "    .dataframe thead th {\n",
       "        text-align: right;\n",
       "    }\n",
       "</style>\n",
       "<table border=\"1\" class=\"dataframe\">\n",
       "  <thead>\n",
       "    <tr style=\"text-align: right;\">\n",
       "      <th></th>\n",
       "      <th>foo</th>\n",
       "      <th>bar</th>\n",
       "    </tr>\n",
       "  </thead>\n",
       "  <tbody>\n",
       "    <tr>\n",
       "      <th>a</th>\n",
       "      <td>0.643274</td>\n",
       "      <td>0.255836</td>\n",
       "    </tr>\n",
       "    <tr>\n",
       "      <th>b</th>\n",
       "      <td>0.374702</td>\n",
       "      <td>0.272392</td>\n",
       "    </tr>\n",
       "    <tr>\n",
       "      <th>c</th>\n",
       "      <td>0.954813</td>\n",
       "      <td>0.087420</td>\n",
       "    </tr>\n",
       "  </tbody>\n",
       "</table>\n",
       "</div>"
      ],
      "text/plain": [
       "        foo       bar\n",
       "a  0.643274  0.255836\n",
       "b  0.374702  0.272392\n",
       "c  0.954813  0.087420"
      ]
     },
     "execution_count": 68,
     "metadata": {},
     "output_type": "execute_result"
    }
   ],
   "source": [
    "pd.DataFrame(np.random.rand(3,2), columns=['foo', 'bar'], index=['a','b','c'])"
   ]
  },
  {
   "cell_type": "code",
   "execution_count": 74,
   "id": "4fd98181-af27-438a-98ac-49cbe1265c17",
   "metadata": {},
   "outputs": [
    {
     "name": "stdout",
     "output_type": "stream",
     "text": [
      "0    3\n",
      "1    2\n",
      "2    4\n",
      "3    5\n",
      "dtype: int64\n",
      "<class 'pandas.core.series.Series'>\n"
     ]
    }
   ],
   "source": [
    "ex1= pd.Series([3,2,4,5])\n",
    "print(ex1)\n",
    "print(type(ex1))"
   ]
  },
  {
   "cell_type": "code",
   "execution_count": 80,
   "id": "5ac99aa0-20c2-4aec-9249-f55b8f3ba097",
   "metadata": {},
   "outputs": [
    {
     "name": "stdout",
     "output_type": "stream",
     "text": [
      "converting to list:  [3, 2, 4, 5]\n",
      "Type of list:  <class 'list'>\n"
     ]
    }
   ],
   "source": [
    "print(\"converting to list: \", ex1.tolist())\n",
    "print(\"Type of list: \", type(ex1.tolist()))"
   ]
  },
  {
   "cell_type": "code",
   "execution_count": 96,
   "id": "07ae687e-a420-44af-a714-53d5891a4dc3",
   "metadata": {},
   "outputs": [
    {
     "name": "stdout",
     "output_type": "stream",
     "text": [
      "0     2\n",
      "1     4\n",
      "2     6\n",
      "3     8\n",
      "4    10\n",
      "dtype: int64\n",
      "0    1\n",
      "1    3\n",
      "2    5\n",
      "3    7\n",
      "4    9\n",
      "dtype: int64\n",
      "Add: \n",
      " 0     3\n",
      "1     7\n",
      "2    11\n",
      "3    15\n",
      "4    19\n",
      "dtype: int64\n",
      "Subtract: \n",
      " 0    1\n",
      "1    1\n",
      "2    1\n",
      "3    1\n",
      "4    1\n",
      "dtype: int64\n",
      "DIv: \n",
      " 0    2.000000\n",
      "1    1.333333\n",
      "2    1.200000\n",
      "3    1.142857\n",
      "4    1.111111\n",
      "dtype: float64\n",
      "Multiplication: \n",
      " 0     2\n",
      "1    12\n",
      "2    30\n",
      "3    56\n",
      "4    90\n",
      "dtype: int64\n"
     ]
    }
   ],
   "source": [
    "ds1= pd.Series([2,4,6,8,10])\n",
    "ds2 = pd.Series([1,3,5,7,9])\n",
    "print(ds1)\n",
    "print(ds2)\n",
    "add = ds1 + ds2\n",
    "print(\"Add: \\n\", add)\n",
    "subtract = ds1-ds2\n",
    "print(\"Subtract: \\n\", subtract)\n",
    "div = ds1/ds2\n",
    "print(\"DIv: \\n\", div)\n",
    "mul = ds1*ds2\n",
    "print(\"Multiplication: \\n\", mul)"
   ]
  },
  {
   "cell_type": "code",
   "execution_count": 98,
   "id": "4bddf21d-2c32-4635-8178-9626bed751c2",
   "metadata": {},
   "outputs": [
    {
     "name": "stdout",
     "output_type": "stream",
     "text": [
      "first ds: \n",
      " 0     2\n",
      "1     4\n",
      "2     6\n",
      "3     8\n",
      "4    10\n",
      "dtype: int64\n",
      "second ds: \n",
      " 0     1\n",
      "1     3\n",
      "2     5\n",
      "3     7\n",
      "4    10\n",
      "dtype: int64\n"
     ]
    }
   ],
   "source": [
    "ds1 = pd.Series([2,4,6,8,10])\n",
    "ds2 = pd.Series([1,3,5,7,10])\n",
    "print(\"first ds: \\n\", ds1)\n",
    "print(\"second ds: \\n\", ds2)"
   ]
  },
  {
   "cell_type": "code",
   "execution_count": 106,
   "id": "b6539230-745a-44f1-a8ff-92f2a8202716",
   "metadata": {},
   "outputs": [
    {
     "name": "stdout",
     "output_type": "stream",
     "text": [
      "Comparing the different dataset values\n",
      "Equals\n",
      "0    False\n",
      "1    False\n",
      "2    False\n",
      "3    False\n",
      "4     True\n",
      "dtype: bool\n",
      "Greater than\n",
      "0     True\n",
      "1     True\n",
      "2     True\n",
      "3     True\n",
      "4    False\n",
      "dtype: bool\n",
      "Less than\n",
      "0    False\n",
      "1    False\n",
      "2    False\n",
      "3    False\n",
      "4    False\n",
      "dtype: bool\n"
     ]
    }
   ],
   "source": [
    "print(\"Comparing the different dataset values\")\n",
    "print(\"Equals\")\n",
    "print(ds1==ds2)\n",
    "print(\"Greater than\")\n",
    "print(ds1>ds2)\n",
    "print(\"Less than\")\n",
    "print(ds1<ds2)\n"
   ]
  },
  {
   "cell_type": "code",
   "execution_count": 108,
   "id": "558374eb-8cf3-4c94-97bc-39b8b48bc735",
   "metadata": {},
   "outputs": [
    {
     "data": {
      "text/plain": [
       "{'a': 100, 'b': 200, 'c': 300, 'd': 400, 'e': 800}"
      ]
     },
     "execution_count": 108,
     "metadata": {},
     "output_type": "execute_result"
    }
   ],
   "source": [
    "dict = {'a':100, 'b':200,'c':300,'d':400,'e':800}\n",
    "dict"
   ]
  },
  {
   "cell_type": "code",
   "execution_count": 110,
   "id": "f66b6386-fc50-425f-b8a3-db462a18f7f3",
   "metadata": {},
   "outputs": [
    {
     "data": {
      "text/plain": [
       "a    100\n",
       "b    200\n",
       "c    300\n",
       "d    400\n",
       "e    800\n",
       "dtype: int64"
      ]
     },
     "execution_count": 110,
     "metadata": {},
     "output_type": "execute_result"
    }
   ],
   "source": [
    "conv_dict = pd.Series(dict)\n",
    "conv_dict"
   ]
  },
  {
   "cell_type": "code",
   "execution_count": 116,
   "id": "e9f0f170-1881-4cbf-9c93-1d1bf3af0069",
   "metadata": {},
   "outputs": [
    {
     "name": "stdout",
     "output_type": "stream",
     "text": [
      "[10 20 30 40 50]\n"
     ]
    },
    {
     "data": {
      "text/plain": [
       "numpy.ndarray"
      ]
     },
     "execution_count": 116,
     "metadata": {},
     "output_type": "execute_result"
    }
   ],
   "source": [
    "np_arr = np.array([10,20,30,40,50])\n",
    "print(np_arr)\n",
    "type(np_arr)"
   ]
  },
  {
   "cell_type": "code",
   "execution_count": 122,
   "id": "386312df-a81b-463c-ba19-ea40235e171c",
   "metadata": {},
   "outputs": [
    {
     "name": "stdout",
     "output_type": "stream",
     "text": [
      "converted numpy array:  0    10\n",
      "1    20\n",
      "2    30\n",
      "3    40\n",
      "4    50\n",
      "dtype: int64\n",
      "data type \n",
      " <class 'pandas.core.series.Series'>\n"
     ]
    }
   ],
   "source": [
    "conv_arr = pd.Series(np_arr)\n",
    "print(\"converted numpy array: \", conv_arr)\n",
    "print(\"data type \\n\", type(conv_arr))"
   ]
  },
  {
   "cell_type": "code",
   "execution_count": 138,
   "id": "9430809a-833d-4f4b-8803-fe481fa21309",
   "metadata": {},
   "outputs": [
    {
     "name": "stdout",
     "output_type": "stream",
     "text": [
      "initial dataset:  0       100\n",
      "1       200\n",
      "2    python\n",
      "3    300.12\n",
      "4       400\n",
      "dtype: object\n",
      "Changing the dataset: \n",
      "0    100.00\n",
      "1    200.00\n",
      "2       NaN\n",
      "3    300.12\n",
      "4    400.00\n",
      "dtype: float64\n"
     ]
    }
   ],
   "source": [
    "ds = pd.Series(['100', '200', 'python', '300.12', '400'])\n",
    "print(\"initial dataset: \", ds)\n",
    "print(\"Changing the dataset: \")\n",
    "ds1 = pd.to_numeric(ds, errors='coerce')\n",
    "print(ds1)\n",
    "\n",
    "#errors has three paramerters\n",
    "## coerce replates the string as Nan\n",
    "## raise throws an error\n",
    "## ignore puts the string as same and ignores it"
   ]
  },
  {
   "cell_type": "code",
   "execution_count": 148,
   "id": "63aca080-1bae-4c92-a9cb-151b49d4ee96",
   "metadata": {},
   "outputs": [
    {
     "data": {
      "text/html": [
       "<div>\n",
       "<style scoped>\n",
       "    .dataframe tbody tr th:only-of-type {\n",
       "        vertical-align: middle;\n",
       "    }\n",
       "\n",
       "    .dataframe tbody tr th {\n",
       "        vertical-align: top;\n",
       "    }\n",
       "\n",
       "    .dataframe thead th {\n",
       "        text-align: right;\n",
       "    }\n",
       "</style>\n",
       "<table border=\"1\" class=\"dataframe\">\n",
       "  <thead>\n",
       "    <tr style=\"text-align: right;\">\n",
       "      <th></th>\n",
       "      <th>col1</th>\n",
       "      <th>col2</th>\n",
       "      <th>col3</th>\n",
       "      <th>col4</th>\n",
       "    </tr>\n",
       "  </thead>\n",
       "  <tbody>\n",
       "    <tr>\n",
       "      <th>0</th>\n",
       "      <td>1</td>\n",
       "      <td>2</td>\n",
       "      <td>3</td>\n",
       "      <td>4</td>\n",
       "    </tr>\n",
       "    <tr>\n",
       "      <th>1</th>\n",
       "      <td>4</td>\n",
       "      <td>5</td>\n",
       "      <td>6</td>\n",
       "      <td>9</td>\n",
       "    </tr>\n",
       "    <tr>\n",
       "      <th>2</th>\n",
       "      <td>7</td>\n",
       "      <td>5</td>\n",
       "      <td>8</td>\n",
       "      <td>12</td>\n",
       "    </tr>\n",
       "  </tbody>\n",
       "</table>\n",
       "</div>"
      ],
      "text/plain": [
       "   col1  col2  col3  col4\n",
       "0     1     2     3     4\n",
       "1     4     5     6     9\n",
       "2     7     5     8    12"
      ]
     },
     "execution_count": 148,
     "metadata": {},
     "output_type": "execute_result"
    }
   ],
   "source": [
    "df = pd.DataFrame([[1,2,3,4],[4,5,6,9],[7,5,8,12]], columns=['col1', 'col2', 'col3', 'col4'])\n",
    "df"
   ]
  },
  {
   "cell_type": "code",
   "execution_count": 158,
   "id": "76e82258-ddb0-4afd-b37a-8de4a8d8d970",
   "metadata": {},
   "outputs": [
    {
     "name": "stdout",
     "output_type": "stream",
     "text": [
      "0    1\n",
      "1    4\n",
      "2    7\n",
      "Name: col1, dtype: int64\n",
      "<class 'pandas.core.series.Series'>\n"
     ]
    },
    {
     "data": {
      "text/plain": [
       "array([1, 4, 7])"
      ]
     },
     "execution_count": 158,
     "metadata": {},
     "output_type": "execute_result"
    }
   ],
   "source": [
    "s1 = df.iloc[:,0]\n",
    "print(s1)\n",
    "print(type(s1))\n",
    "s1.values\n",
    "#.values converts series to array\n"
   ]
  },
  {
   "cell_type": "code",
   "execution_count": 170,
   "id": "612331bb-3325-4c67-a46d-62dbc4ce8fd3",
   "metadata": {},
   "outputs": [
    {
     "name": "stdout",
     "output_type": "stream",
     "text": [
      "0    [Red, Green, White]\n",
      "1           [Red, black]\n",
      "2               [Yellow]\n",
      "dtype: object\n",
      "stacking the multiple series of list to one series\n",
      "0       Red\n",
      "1     Green\n",
      "2     White\n",
      "3       Red\n",
      "4     black\n",
      "5    Yellow\n",
      "dtype: object\n"
     ]
    }
   ],
   "source": [
    "s = pd.Series([['Red', 'Green', 'White'],['Red', 'black'],['Yellow']])\n",
    "print(s)\n",
    "print(\"stacking the multiple series of list to one series\")\n",
    "s1 = s.apply(pd.Series).stack().reset_index(drop='true')\n",
    "print(s1)"
   ]
  },
  {
   "cell_type": "code",
   "execution_count": 176,
   "id": "fe8747cb-b117-4d90-a24b-71a2d257f6a0",
   "metadata": {},
   "outputs": [
    {
     "name": "stdout",
     "output_type": "stream",
     "text": [
      "0    [1, 2, 3]\n",
      "1    [3, 4, 5]\n",
      "2       [4, 5]\n",
      "dtype: object\n",
      "0    1.0\n",
      "1    2.0\n",
      "2    3.0\n",
      "3    3.0\n",
      "4    4.0\n",
      "5    5.0\n",
      "6    4.0\n",
      "7    5.0\n",
      "dtype: float64\n"
     ]
    }
   ],
   "source": [
    "s = pd.Series([[1,2,3],[3,4,5], [4,5]])\n",
    "print(s)\n",
    "s1 = s.apply(pd.Series).stack().reset_index(drop='true')\n",
    "print(s1)"
   ]
  },
  {
   "cell_type": "code",
   "execution_count": 184,
   "id": "badd3594-daab-4949-8764-1641abb5f051",
   "metadata": {},
   "outputs": [
    {
     "name": "stdout",
     "output_type": "stream",
     "text": [
      "0       100\n",
      "1       200\n",
      "2    python\n",
      "3    200.12\n",
      "4       400\n",
      "dtype: object\n",
      "0       100\n",
      "1       200\n",
      "3    200.12\n",
      "4       400\n",
      "2    python\n",
      "dtype: object\n"
     ]
    }
   ],
   "source": [
    "so = pd.Series(['100', '200', 'python', '200.12','400'])\n",
    "print(so)\n",
    "sorted = so.sort_values()\n",
    "print(sorted)"
   ]
  },
  {
   "cell_type": "code",
   "execution_count": 196,
   "id": "ecc2f009-3bb9-4c0b-aac7-1e18d0f35a31",
   "metadata": {},
   "outputs": [
    {
     "name": "stdout",
     "output_type": "stream",
     "text": [
      "0     3\n",
      "1     5\n",
      "2     1\n",
      "3     2\n",
      "4     4\n",
      "5     6\n",
      "6     2\n",
      "7     3\n",
      "8    66\n",
      "dtype: int64\n",
      "Ascending: \n",
      " 2     1\n",
      "3     2\n",
      "6     2\n",
      "0     3\n",
      "7     3\n",
      "4     4\n",
      "1     5\n",
      "5     6\n",
      "8    66\n",
      "dtype: int64\n",
      "Descending: \n",
      " 8    66\n",
      "5     6\n",
      "1     5\n",
      "4     4\n",
      "0     3\n",
      "7     3\n",
      "3     2\n",
      "6     2\n",
      "2     1\n",
      "dtype: int64\n"
     ]
    }
   ],
   "source": [
    "s = pd.Series([3,5,1,2,4,6,2,3,66])\n",
    "print(s)\n",
    "asc = s.sort_values()\n",
    "print(\"Ascending: \\n\", asc)\n",
    "desc = s.sort_values(ascending=False)\n",
    "print(\"Descending: \\n\", desc)\n",
    "\n",
    "#sort_values is used to sort the values of series in ascending order\n",
    "#sort_values(ascending=False) is used to sort the values of series in descending order"
   ]
  },
  {
   "cell_type": "code",
   "execution_count": 218,
   "id": "9f08dc23-94c7-4e20-948d-09195142bc20",
   "metadata": {},
   "outputs": [
    {
     "name": "stdout",
     "output_type": "stream",
     "text": [
      "Initial Series: \n",
      " 0       100\n",
      "1       200\n",
      "2    python\n",
      "3       300\n",
      "dtype: object\n",
      "New Series: \n",
      " 0       100\n",
      "1       200\n",
      "2    python\n",
      "3       300\n",
      "4       500\n",
      "5       php\n",
      "dtype: object\n",
      "Arranging in ascending order:  0       100\n",
      "1       200\n",
      "3       300\n",
      "2    python\n",
      "dtype: object\n"
     ]
    }
   ],
   "source": [
    "s = pd.Series(['100', '200', 'python', '300'])\n",
    "print(\"Initial Series: \\n\", s)\n",
    "print(\"New Series: \\n\", pd.concat([s, pd.Series([500, 'php'])], ignore_index=True))\n",
    "print(\"Arranging in ascending order: \", s.sort_values())"
   ]
  },
  {
   "cell_type": "code",
   "execution_count": 228,
   "id": "9238fb61-8b38-4277-aaa2-290231ca2e02",
   "metadata": {},
   "outputs": [
    {
     "name": "stdout",
     "output_type": "stream",
     "text": [
      "initial series: \n",
      " 0    1\n",
      "1    2\n",
      "2    3\n",
      "dtype: int64\n",
      "to be added: \n",
      " 0    4\n",
      "1    5\n",
      "2    6\n",
      "dtype: int64\n",
      "Final series: \n",
      " 0    1\n",
      "1    2\n",
      "2    3\n",
      "3    4\n",
      "4    5\n",
      "5    6\n",
      "dtype: int64\n",
      "Descending order: \n",
      " 5    6\n",
      "4    5\n",
      "3    4\n",
      "2    3\n",
      "1    2\n",
      "0    1\n",
      "dtype: int64\n"
     ]
    }
   ],
   "source": [
    "s = pd.Series([1,2,3])\n",
    "print(\"initial series: \\n\", s)\n",
    "s1 = pd.Series([4,5,6])\n",
    "print(\"to be added: \\n\", s1)\n",
    "s2 = pd.concat([s,s1], ignore_index=True)\n",
    "print(\"Final series: \\n\", s2)\n",
    "print(\"Descending order: \\n\", s2.sort_values(ascending=\n",
    "                                            False))"
   ]
  },
  {
   "cell_type": "code",
   "execution_count": 232,
   "id": "c5e1cb78-35e0-434a-b91c-9d8fea19980d",
   "metadata": {},
   "outputs": [
    {
     "name": "stdout",
     "output_type": "stream",
     "text": [
      "a    1\n",
      "b    2\n",
      "c    3\n",
      "d    4\n",
      "e    5\n",
      "dtype: int64\n",
      "b    2\n",
      "a    1\n",
      "c    3\n",
      "d    4\n",
      "e    5\n",
      "dtype: int64\n"
     ]
    }
   ],
   "source": [
    "d1 = pd.Series([1,2,3,4,5], index=['a','b','c','d','e'])\n",
    "print(d1)\n",
    "d2 = d1.reindex(['b','a','c','d','e'])\n",
    "print(d2)"
   ]
  },
  {
   "cell_type": "code",
   "execution_count": 234,
   "id": "923bd5b8-ce52-433e-bad8-043e9b366ef1",
   "metadata": {},
   "outputs": [
    {
     "name": "stdout",
     "output_type": "stream",
     "text": [
      "0     1\n",
      "1     2\n",
      "2     3\n",
      "3     4\n",
      "4     5\n",
      "5     6\n",
      "6     7\n",
      "7     8\n",
      "8     9\n",
      "9     5\n",
      "10    3\n",
      "dtype: int64\n"
     ]
    }
   ],
   "source": [
    "s = pd.Series([1,2,3,4,5,6,7,8,9,5,3])\n",
    "print(s)"
   ]
  },
  {
   "cell_type": "code",
   "execution_count": 236,
   "id": "3a05ed06-63ae-4a74-87db-3241935696ad",
   "metadata": {},
   "outputs": [
    {
     "name": "stdout",
     "output_type": "stream",
     "text": [
      "Mean of the dataset:  4.818181818181818\n",
      "Standard Deviation of the dataset:  2.522624895547565\n"
     ]
    }
   ],
   "source": [
    "print(\"Mean of the dataset: \", s.mean())\n",
    "print(\"Standard Deviation of the dataset: \", s.std())"
   ]
  },
  {
   "cell_type": "code",
   "execution_count": 238,
   "id": "cee434bb-23ea-4e82-8f1a-4ed94634de63",
   "metadata": {},
   "outputs": [
    {
     "name": "stdout",
     "output_type": "stream",
     "text": [
      "0    1\n",
      "1    2\n",
      "2    3\n",
      "3    4\n",
      "4    5\n",
      "dtype: int64\n",
      "0     2\n",
      "1     4\n",
      "2     6\n",
      "3     7\n",
      "4    10\n",
      "dtype: int64\n"
     ]
    }
   ],
   "source": [
    "s1 = pd.Series([1,2,3,4,5])\n",
    "s2 = pd.Series([2,4,6,7,10])\n",
    "print(s1)\n",
    "print(s2)"
   ]
  },
  {
   "cell_type": "code",
   "execution_count": 244,
   "id": "b5e13a08-2b9e-494a-953d-297f6bd88932",
   "metadata": {},
   "outputs": [
    {
     "name": "stdout",
     "output_type": "stream",
     "text": [
      "0    1\n",
      "2    3\n",
      "4    5\n",
      "dtype: int64\n"
     ]
    }
   ],
   "source": [
    "only_s1 = s1[~s1.isin(s2)]\n",
    "print(only_s1)"
   ]
  },
  {
   "cell_type": "code",
   "execution_count": 246,
   "id": "8896ce89-6074-4294-9f01-4ceffb353399",
   "metadata": {},
   "outputs": [
    {
     "name": "stdout",
     "output_type": "stream",
     "text": [
      "2     6\n",
      "3     7\n",
      "4    10\n",
      "dtype: int64\n"
     ]
    }
   ],
   "source": [
    "only_s2 = s2[~s2.isin(s1)]\n",
    "print(only_s2)"
   ]
  },
  {
   "cell_type": "code",
   "execution_count": 248,
   "id": "0e8be56a-9c9e-4da4-b13a-928c472195ad",
   "metadata": {},
   "outputs": [],
   "source": [
    "# done upto question number 16\n",
    "## https://www.w3resource.com/python-exercises/pandas/index-data-series.php"
   ]
  },
  {
   "cell_type": "code",
   "execution_count": null,
   "id": "d48f4fb5-6a65-426d-9221-9149215a610a",
   "metadata": {},
   "outputs": [],
   "source": []
  }
 ],
 "metadata": {
  "kernelspec": {
   "display_name": "Python 3 (ipykernel)",
   "language": "python",
   "name": "python3"
  },
  "language_info": {
   "codemirror_mode": {
    "name": "ipython",
    "version": 3
   },
   "file_extension": ".py",
   "mimetype": "text/x-python",
   "name": "python",
   "nbconvert_exporter": "python",
   "pygments_lexer": "ipython3",
   "version": "3.12.4"
  }
 },
 "nbformat": 4,
 "nbformat_minor": 5
}
